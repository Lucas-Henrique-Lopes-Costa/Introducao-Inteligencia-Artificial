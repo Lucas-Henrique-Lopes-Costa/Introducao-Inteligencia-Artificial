{
  "nbformat": 4,
  "nbformat_minor": 0,
  "metadata": {
    "colab": {
      "name": "Introdução a Machine Learning",
      "provenance": []
    },
    "kernelspec": {
      "name": "python3",
      "display_name": "Python 3.9.1 64-bit",
      "metadata": {
        "interpreter": {
          "hash": "fd578b525fe7fcca8a3ea11350d18bcbeb29af20bd1df15f6c5fd2c9cf111483"
        }
      }
    }
  },
  "cells": [
    {
      "cell_type": "code",
      "metadata": {
        "id": "EIUtuXiw1yFF"
      },
      "source": [
        "# pelo longo?\r\n",
        "# perna curta?\r\n",
        "# faz auau?\r\n",
        "\r\n",
        "# 0 = não \r\n",
        "# 1 = sim\r\n",
        "\r\n",
        "porco1 = [0, 1, 0]\r\n",
        "porco2 = [0, 1, 1]\r\n",
        "porco3 = [0, 1, 0]\r\n",
        "\r\n",
        "cachorro1 = [0, 1, 1]\r\n",
        "cachorro2 = [1, 0, 1]\r\n",
        "cachorro3 = [1, 1, 1]\r\n",
        "\r\n",
        "# porco = 1\r\n",
        "# cachorro = 0\r\n",
        "\r\n",
        "treinoCaracteristicas = [porco1, porco2, porco3, cachorro1, cachorro2, cachorro3] # com esses dados\r\n",
        "classificações = [1, 1, 1, 0, 0, 0] # classifique se é um porco ou cachorro"
      ],
      "execution_count": null,
      "outputs": []
    },
    {
      "cell_type": "code",
      "metadata": {
        "colab": {
          "base_uri": "https://localhost:8080/"
        },
        "id": "YUwCiIpH4Ihb",
        "outputId": "17657245-14c6-4db8-cebf-5a21f10489d6"
      },
      "source": [
        "from sklearn.svm import LinearSVC # usando uma biblioteca para treinar a nossa inteligência artificial\n",
        "\n",
        "# Criando um \"cérebro vazio\"\n",
        "modelo = LinearSVC()\n",
        "modelo.fit(treinoCaracteristicas, classificações) # encaixa esses dados no seu cérebro"
      ],
      "execution_count": null,
      "outputs": []
    },
    {
      "cell_type": "code",
      "metadata": {
        "colab": {
          "base_uri": "https://localhost:8080/"
        },
        "id": "HAGxOUAt5dmE",
        "outputId": "2e061eb4-5af7-460b-e337-cdbbae45e584"
      },
      "source": [
        "animal_misterioso = [1, 1, 1]\n",
        "\n",
        "# só que esse exemplo já foi passado no começo, então será como se ele estive apenas decodado\n",
        "modelo.predict([animal_misterioso]) # ele vai predizer qual é o animal usando uma lista de animais\n",
        "\n",
        "# O cérebro vazio apenas decorou que o animal, cuja referencia é [1, 1, 1], é um cachorro, pois na variavel criada acima, já havia sido declarado isso, ou seja a máquina não aprendeu que o que foi informado era um cachorro, mas sim decorou o resultado informado. É necessário criar contestações para testar o Aprendizado de máquina (Machine Learning)."
      ],
      "execution_count": null,
      "outputs": []
    },
    {
      "cell_type": "code",
      "metadata": {
        "id": "Bvx2WyM66bUO"
      },
      "source": [
        "# Criando mais varivaies para serem analisadas\n",
        "# Sendo que: 1 = porco && 0 = cachorro\n",
        "misterio1 = [1, 1, 1]\n",
        "misterio2 = [1, 1, 0]\n",
        "misterio3 = [0, 1, 1]\n",
        "\n",
        "treinoCaracteristicas = [misterio1, misterio2, misterio3]\n",
        "classificação = [1, 0, 1]"
      ],
      "execution_count": null,
      "outputs": []
    },
    {
      "cell_type": "code",
      "metadata": {
        "colab": {
          "base_uri": "https://localhost:8080/"
        },
        "id": "5r38J6ez7fQK",
        "outputId": "87686ffc-2ba9-45d9-acce-438468789db8"
      },
      "source": [
        "previsoes = modelo.predict(treinoCaracteristicas)\r\n",
        "previsoes"
      ],
      "execution_count": null,
      "outputs": []
    },
    {
      "cell_type": "code",
      "metadata": {
        "colab": {
          "base_uri": "https://localhost:8080/"
        },
        "id": "TT-Gv0uQ8G-J",
        "outputId": "c01d5df6-aa85-415b-eaeb-1d9dc6a34c44"
      },
      "source": [
        "# para saber o quão certo ele está\r\n",
        "from sklearn.metrics import accuracy_score\r\n",
        "\r\n",
        "taxa_de_acerto = int(accuracy_score(classificação, previsoes) * 100)\r\n",
        "print('Sua taxa de acerto foi de ' + str(taxa_de_acerto) + \"%\")"
      ],
      "execution_count": null,
      "outputs": []
    },
    {
      "cell_type": "code",
      "metadata": {
        "id": "6pJs89fEINAm"
      },
      "source": [
        "# tentando melhorar o acerto\r\n",
        "\r\n",
        "misterio1: (0, 0, 1) # cachorro\r\n",
        "misterio2: (1, 0, 1) # cachorro\r\n",
        "misterio3: (1, 1, 0) # cachorro\r\n",
        "\r\n",
        "treinoCaracteristicas = [misterio1, misterio2, misterio3]\r\n",
        "classificação = [1, 1, 1] # eu sei que o primeiro é porco = 1 ou cachorro = 0"
      ],
      "execution_count": null,
      "outputs": []
    },
    {
      "cell_type": "code",
      "metadata": {
        "colab": {
          "base_uri": "https://localhost:8080/"
        },
        "id": "Krsd2UHSJtLi",
        "outputId": "db8d688c-6b72-4199-a784-c2846928f331"
      },
      "source": [
        "previsoes = modelo.predict(treinoCaracteristicas)\r\n",
        "previsoes"
      ],
      "execution_count": null,
      "outputs": []
    },
    {
      "cell_type": "code",
      "metadata": {
        "colab": {
          "base_uri": "https://localhost:8080/"
        },
        "id": "kyHlv10-JvIB",
        "outputId": "b27f1809-641e-4c84-bfa6-a81a43fec6fa"
      },
      "source": [
        "# para saber o quão certo ele está\r\n",
        "from sklearn.metrics import accuracy_score\r\n",
        "\r\n",
        "taxa_de_acerto = int(accuracy_score(classificação, previsoes) * 100)\r\n",
        "print('Sua taxa de acerto foi de ' + str(taxa_de_acerto) + \"%\")"
      ],
      "execution_count": null,
      "outputs": []
    }
  ]
}