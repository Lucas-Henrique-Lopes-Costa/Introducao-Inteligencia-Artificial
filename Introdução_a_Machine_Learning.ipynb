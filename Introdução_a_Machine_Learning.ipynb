{
  "nbformat": 4,
  "nbformat_minor": 0,
  "metadata": {
    "colab": {
      "name": "Introdução a Machine Learning",
      "provenance": []
    },
    "kernelspec": {
      "name": "python3",
      "display_name": "Python 3"
    }
  },
  "cells": [
    {
      "cell_type": "code",
      "metadata": {
        "id": "EIUtuXiw1yFF"
      },
      "source": [
        "# pelo longo?\r\n",
        "# perna curta?\r\n",
        "# faz auau?\r\n",
        "\r\n",
        "# 0 = não \r\n",
        "# 1 = sim\r\n",
        "\r\n",
        "porco1 = [0, 1, 0]\r\n",
        "porco2 = [0, 1, 1]\r\n",
        "porco3 = [0, 1, 0]\r\n",
        "\r\n",
        "cachorro1 = [0, 1, 1]\r\n",
        "cachorro2 = [1, 0, 1]\r\n",
        "cachorro3 = [1, 1, 1]\r\n",
        "\r\n",
        "# porco = 1\r\n",
        "# cachorro = 0\r\n",
        "\r\n",
        "treinoCaracteristicas = [porco1, porco2, porco3, cachorro1, cachorro2, cachorro3] # com esses dados\r\n",
        "classificações = [1, 1, 1, 0, 0, 0] # classifique se é um porco ou cachorro"
      ],
      "execution_count": null,
      "outputs": []
    },
    {
      "cell_type": "code",
      "metadata": {
        "colab": {
          "base_uri": "https://localhost:8080/"
        },
        "id": "YUwCiIpH4Ihb",
        "outputId": "17657245-14c6-4db8-cebf-5a21f10489d6"
      },
      "source": [
        "from sklearn.svm import LinearSVC # usando uma biblioteca para treinar a nossa inteligência artificial\r\n",
        "\r\n",
        "modelo = LinearSVC()\r\n",
        "modelo.fit(treinoCaracteristicas, classificações) # encaixa esses dados no seu cérebro"
      ],
      "execution_count": null,
      "outputs": [
        {
          "output_type": "execute_result",
          "data": {
            "text/plain": [
              "LinearSVC(C=1.0, class_weight=None, dual=True, fit_intercept=True,\n",
              "          intercept_scaling=1, loss='squared_hinge', max_iter=1000,\n",
              "          multi_class='ovr', penalty='l2', random_state=None, tol=0.0001,\n",
              "          verbose=0)"
            ]
          },
          "metadata": {
            "tags": []
          },
          "execution_count": 26
        }
      ]
    },
    {
      "cell_type": "code",
      "metadata": {
        "colab": {
          "base_uri": "https://localhost:8080/"
        },
        "id": "HAGxOUAt5dmE",
        "outputId": "2e061eb4-5af7-460b-e337-cdbbae45e584"
      },
      "source": [
        "animal_misterioso = [1, 1, 1]\r\n",
        "\r\n",
        "# só que esse exemplo já foi passado no começo, então será como se ele estive apenas decodado\r\n",
        "\r\n",
        "modelo.predict([animal_misterioso]) # ele vai predizer qual é o animal usando uma lista de animais"
      ],
      "execution_count": null,
      "outputs": [
        {
          "output_type": "execute_result",
          "data": {
            "text/plain": [
              "array([0])"
            ]
          },
          "metadata": {
            "tags": []
          },
          "execution_count": 27
        }
      ]
    },
    {
      "cell_type": "code",
      "metadata": {
        "id": "Bvx2WyM66bUO"
      },
      "source": [
        "# para treinar a máquina para ela realmente \"aprender\" é preciso de mais exemplos\r\n",
        "\r\n",
        "# pelo longo?\r\n",
        "# perna curta?\r\n",
        "# faz auau?\r\n",
        "\r\n",
        "# 0 = não \r\n",
        "# 1 = sim\r\n",
        "misterio1: (0, 0, 0) # porco\r\n",
        "misterio2: (0, 0, 1) # cachorro\r\n",
        "misterio3: (0, 1, 0) # porco\r\n",
        "\r\n",
        "treinoCaracteristicas = [misterio1, misterio2, misterio3]\r\n",
        "classificação = [1, 0, 1] # eu sei que o primeiro é porco = 1 ou cachorro = 0"
      ],
      "execution_count": null,
      "outputs": []
    },
    {
      "cell_type": "code",
      "metadata": {
        "colab": {
          "base_uri": "https://localhost:8080/"
        },
        "id": "5r38J6ez7fQK",
        "outputId": "87686ffc-2ba9-45d9-acce-438468789db8"
      },
      "source": [
        "previsoes = modelo.predict(treinoCaracteristicas)\r\n",
        "previsoes"
      ],
      "execution_count": null,
      "outputs": [
        {
          "output_type": "execute_result",
          "data": {
            "text/plain": [
              "array([0, 1, 1])"
            ]
          },
          "metadata": {
            "tags": []
          },
          "execution_count": 30
        }
      ]
    },
    {
      "cell_type": "code",
      "metadata": {
        "colab": {
          "base_uri": "https://localhost:8080/"
        },
        "id": "TT-Gv0uQ8G-J",
        "outputId": "c01d5df6-aa85-415b-eaeb-1d9dc6a34c44"
      },
      "source": [
        "# para saber o quão certo ele está\r\n",
        "from sklearn.metrics import accuracy_score\r\n",
        "\r\n",
        "taxa_de_acerto = int(accuracy_score(classificação, previsoes) * 100)\r\n",
        "print('Sua taxa de acerto foi de ' + str(taxa_de_acerto) + \"%\")"
      ],
      "execution_count": null,
      "outputs": [
        {
          "output_type": "stream",
          "text": [
            "Sua taxa de acerto foi de 33%\n"
          ],
          "name": "stdout"
        }
      ]
    },
    {
      "cell_type": "code",
      "metadata": {
        "id": "6pJs89fEINAm"
      },
      "source": [
        "# tentando melhorar o acerto\r\n",
        "\r\n",
        "misterio1: (0, 0, 1) # cachorro\r\n",
        "misterio2: (1, 0, 1) # cachorro\r\n",
        "misterio3: (1, 1, 0) # cachorro\r\n",
        "\r\n",
        "treinoCaracteristicas = [misterio1, misterio2, misterio3]\r\n",
        "classificação = [1, 1, 1] # eu sei que o primeiro é porco = 1 ou cachorro = 0"
      ],
      "execution_count": null,
      "outputs": []
    },
    {
      "cell_type": "code",
      "metadata": {
        "colab": {
          "base_uri": "https://localhost:8080/"
        },
        "id": "Krsd2UHSJtLi",
        "outputId": "db8d688c-6b72-4199-a784-c2846928f331"
      },
      "source": [
        "previsoes = modelo.predict(treinoCaracteristicas)\r\n",
        "previsoes"
      ],
      "execution_count": null,
      "outputs": [
        {
          "output_type": "execute_result",
          "data": {
            "text/plain": [
              "array([0, 1, 1])"
            ]
          },
          "metadata": {
            "tags": []
          },
          "execution_count": 45
        }
      ]
    },
    {
      "cell_type": "code",
      "metadata": {
        "colab": {
          "base_uri": "https://localhost:8080/"
        },
        "id": "kyHlv10-JvIB",
        "outputId": "b27f1809-641e-4c84-bfa6-a81a43fec6fa"
      },
      "source": [
        "# para saber o quão certo ele está\r\n",
        "from sklearn.metrics import accuracy_score\r\n",
        "\r\n",
        "taxa_de_acerto = int(accuracy_score(classificação, previsoes) * 100)\r\n",
        "print('Sua taxa de acerto foi de ' + str(taxa_de_acerto) + \"%\")"
      ],
      "execution_count": null,
      "outputs": [
        {
          "output_type": "stream",
          "text": [
            "Sua taxa de acerto foi de 66%\n"
          ],
          "name": "stdout"
        }
      ]
    }
  ]
}