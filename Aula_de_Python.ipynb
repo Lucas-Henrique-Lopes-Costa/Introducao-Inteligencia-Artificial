{
  "nbformat": 4,
  "nbformat_minor": 0,
  "metadata": {
    "colab": {
      "name": "Aula de Python",
      "provenance": []
    },
    "kernelspec": {
      "name": "python3",
      "display_name": "Python 3.9.1 64-bit",
      "metadata": {
        "interpreter": {
          "hash": "fd578b525fe7fcca8a3ea11350d18bcbeb29af20bd1df15f6c5fd2c9cf111483"
        }
      }
    }
  },
  "cells": [
    {
      "cell_type": "code",
      "metadata": {
        "colab": {
          "base_uri": "https://localhost:8080/"
        },
        "id": "EvrMIEC25JsI",
        "outputId": "88ba4b31-d980-48f3-f9a8-aa81aee1ba79"
      },
      "source": [
        "name = \"Michel\"\r\n",
        "print(name)"
      ],
      "execution_count": 3,
      "outputs": [
        {
          "output_type": "stream",
          "name": "stdout",
          "text": [
            "Michel\n"
          ]
        }
      ]
    },
    {
      "cell_type": "code",
      "metadata": {
        "id": "m1-gqIyf5uEu"
      },
      "source": [
        "idade = 21\r\n",
        "def mais_um_ano(idade):\r\n",
        "  print('Estou dentro da função')\r\n",
        "  return idade + 1"
      ],
      "execution_count": 4,
      "outputs": []
    },
    {
      "cell_type": "code",
      "metadata": {
        "colab": {
          "base_uri": "https://localhost:8080/"
        },
        "id": "vzBAExJP6IDu",
        "outputId": "89b8475d-ad6a-416e-a7aa-b0e120d18d1d"
      },
      "source": [
        "mais_um_ano(21)"
      ],
      "execution_count": 5,
      "outputs": [
        {
          "output_type": "stream",
          "name": "stdout",
          "text": [
            "Estou dentro da função\n"
          ]
        },
        {
          "output_type": "execute_result",
          "data": {
            "text/plain": [
              "22"
            ]
          },
          "metadata": {},
          "execution_count": 5
        }
      ]
    },
    {
      "cell_type": "code",
      "metadata": {
        "id": "tn2iTJSh6S-C"
      },
      "source": [
        "filmes = [\"Toy Stort\", \"Xuxa\", \"Matrix\"]"
      ],
      "execution_count": 6,
      "outputs": []
    },
    {
      "cell_type": "code",
      "metadata": {
        "id": "PRLKdpui6Tc2"
      },
      "source": [
        "def imprime_filmes(filmes_que_quero_assistir):\r\n",
        "  print('A lista de filmes é: ')\r\n",
        "  print(filmes)"
      ],
      "execution_count": 7,
      "outputs": []
    },
    {
      "cell_type": "code",
      "metadata": {
        "colab": {
          "base_uri": "https://localhost:8080/"
        },
        "id": "5WHIkEen6_ge",
        "outputId": "521c63e6-3fc4-4386-f866-45297c3a55e2"
      },
      "source": [
        "imprime_filmes(filmes)"
      ],
      "execution_count": 8,
      "outputs": [
        {
          "output_type": "stream",
          "name": "stdout",
          "text": [
            "A lista de filmes é: \n['Toy Stort', 'Xuxa', 'Matrix']\n"
          ]
        }
      ]
    },
    {
      "cell_type": "code",
      "metadata": {
        "colab": {
          "base_uri": "https://localhost:8080/",
          "height": 35
        },
        "id": "OSAHalai8Cxn",
        "outputId": "318fbbd8-1e1c-4bf2-b762-476d048e6c18"
      },
      "source": [
        "filmes[1]"
      ],
      "execution_count": 9,
      "outputs": [
        {
          "output_type": "execute_result",
          "data": {
            "text/plain": [
              "'Xuxa'"
            ]
          },
          "metadata": {},
          "execution_count": 9
        }
      ]
    },
    {
      "cell_type": "code",
      "metadata": {
        "colab": {
          "base_uri": "https://localhost:8080/",
          "height": 35
        },
        "id": "bq4NH52z8Vwt",
        "outputId": "9a55b491-8d24-4f7e-91d0-7b7a19c73d26"
      },
      "source": [
        "filmes[-1]"
      ],
      "execution_count": 10,
      "outputs": [
        {
          "output_type": "execute_result",
          "data": {
            "text/plain": [
              "'Matrix'"
            ]
          },
          "metadata": {},
          "execution_count": 10
        }
      ]
    },
    {
      "cell_type": "code",
      "metadata": {
        "colab": {
          "base_uri": "https://localhost:8080/"
        },
        "id": "OomgqbW88rjr",
        "outputId": "f53af0bf-137e-47ef-cdcd-9fe34818ef64"
      },
      "source": [
        "filmes[1:] # do 2º para frente"
      ],
      "execution_count": 11,
      "outputs": [
        {
          "output_type": "execute_result",
          "data": {
            "text/plain": [
              "['Xuxa', 'Matrix']"
            ]
          },
          "metadata": {},
          "execution_count": 11
        }
      ]
    },
    {
      "cell_type": "code",
      "metadata": {
        "colab": {
          "base_uri": "https://localhost:8080/"
        },
        "id": "jeJh4eYT8x9O",
        "outputId": "6fd85902-5f54-4d70-d8fe-0e3de9547616"
      },
      "source": [
        "for filme in filmes:\r\n",
        "  print(filme)"
      ],
      "execution_count": 12,
      "outputs": [
        {
          "output_type": "stream",
          "name": "stdout",
          "text": [
            "Toy Stort\nXuxa\nMatrix\n"
          ]
        }
      ]
    },
    {
      "cell_type": "code",
      "metadata": {
        "id": "IfHjMkgK9gGK"
      },
      "source": [
        "def imprime_filmes_em_linha(filmes_que_quero_imprimir):\r\n",
        "  print('A lista de filmes é: ')\r\n",
        "  for filme in filmes:\r\n",
        "    print(filme)"
      ],
      "execution_count": 13,
      "outputs": []
    },
    {
      "cell_type": "code",
      "metadata": {
        "colab": {
          "base_uri": "https://localhost:8080/"
        },
        "id": "KGYGXUHJ9y_C",
        "outputId": "16cccddf-9ed8-4719-c350-4f79b532995d"
      },
      "source": [
        "print(imprime_filmes_em_linha(filmes))"
      ],
      "execution_count": 14,
      "outputs": [
        {
          "output_type": "stream",
          "name": "stdout",
          "text": [
            "A lista de filmes é: \nToy Stort\nXuxa\nMatrix\nNone\n"
          ]
        }
      ]
    },
    {
      "cell_type": "code",
      "metadata": {
        "colab": {
          "base_uri": "https://localhost:8080/"
        },
        "id": "x6QM2Wf99_bX",
        "outputId": "f6e8fefe-52d6-42fa-cc8c-db6cf4498d5f"
      },
      "source": [
        "dados = {\r\n",
        "    \"nome\" : \"Lucas\",\r\n",
        "    \"idade\" : 17,\r\n",
        "    \"empresa\" : \"LucasFilmes\"\r\n",
        "}\r\n",
        "dados"
      ],
      "execution_count": 15,
      "outputs": [
        {
          "output_type": "execute_result",
          "data": {
            "text/plain": [
              "{'nome': 'Lucas', 'idade': 17, 'empresa': 'LucasFilmes'}"
            ]
          },
          "metadata": {},
          "execution_count": 15
        }
      ]
    },
    {
      "cell_type": "code",
      "metadata": {
        "id": "QG26HecC-feg",
        "colab": {
          "base_uri": "https://localhost:8080/",
          "height": 35
        },
        "outputId": "bf49ba50-7000-414a-b4eb-da402a5cb59b"
      },
      "source": [
        "dados[\"nome\"]"
      ],
      "execution_count": 16,
      "outputs": [
        {
          "output_type": "execute_result",
          "data": {
            "text/plain": [
              "'Lucas'"
            ]
          },
          "metadata": {},
          "execution_count": 16
        }
      ]
    }
  ]
}